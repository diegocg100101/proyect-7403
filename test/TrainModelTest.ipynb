{
 "cells": [
  {
   "cell_type": "markdown",
   "metadata": {},
   "source": [
    "!pip install \"unsloth[colab-new] @ git+https://github.com/unslothai/unsloth.git\"\n",
    "!pip install --no-deps \"xformers<0.0.27\" \"trl<0.9.0\" peft accelerate bitsandbytes"
   ]
  },
  {
   "cell_type": "code",
   "execution_count": null,
   "metadata": {},
   "outputs": [],
   "source": [
    "from unsloth import FastLanguageModel\n",
    "import torch\n",
    "from datasets import load_dataset\n",
    "import wandb\n",
    "from trl import SFTTrainer\n",
    "from transformers import TrainingArguments\n",
    "from unsloth import is_bfloat16_supported\n",
    "from transformers.utils import logging"
   ]
  },
  {
   "cell_type": "code",
   "execution_count": null,
   "metadata": {},
   "outputs": [],
   "source": [
    "# Configuration settings\n",
    "max_seq_length = 2048  # Maximum sequence length supported by the model\n",
    "dtype = None           # Set to None for auto-detection, Float16 for T4/V100, Bfloat16 for Ampere GPUs\n",
    "load_in_4bit = True    # Enable 4-bit loading for memory efficiency\n",
    "\n",
    "# Load the model and tokenizer\n",
    "model, tokenizer = FastLanguageModel.from_pretrained(\n",
    "    model_name=\"unsloth/tinyllama-bnb-4bit\",  # Model name for 4-bit precision loading\n",
    "    max_seq_length=max_seq_length,\n",
    "    dtype=dtype,\n",
    "    load_in_4bit=load_in_4bit,\n",
    "    # token = \"hf_...\", # Uncomment and use if working with gated models like Meta's LLaMA-2\n",
    ")"
   ]
  },
  {
   "cell_type": "code",
   "execution_count": null,
   "metadata": {},
   "outputs": [
    {
     "name": "stderr",
     "output_type": "stream",
     "text": [
      "Map: 100%|██████████| 15/15 [00:00<00:00, 1557.14 examples/s]\n"
     ]
    }
   ],
   "source": [
    "model = FastLanguageModel.get_peft_model(\n",
    "    model,\n",
    "    r=16,  # LoRA rank, affects the number of trainable parameters\n",
    "    target_modules=[\"q_proj\", \"k_proj\", \"v_proj\", \"o_proj\",\n",
    "                    \"gate_proj\", \"up_proj\", \"down_proj\"],\n",
    "    lora_alpha=16,\n",
    "    lora_dropout=0,  # Dropout for regularization, currently set to 0\n",
    "    bias=\"none\",     # No bias used in this configuration\n",
    "    use_gradient_checkpointing=True,  # Useful for reducing memory usage during training\n",
    "    use_rslora=False,  # Rank Stabilized LoRA, set to False in this case\n",
    "    loftq_config=None, # LoRA with Quantization, not used here\n",
    ")"
   ]
  },
  {
   "cell_type": "code",
   "execution_count": null,
   "metadata": {},
   "outputs": [],
   "source": [
    "# Load the Alpaca dataset from Hugging Face\n",
    "dataset = load_dataset(\"json\", data_files=\"data/data.json\")\n",
    "\n",
    "# Define a prompt template\n",
    "alpaca_prompt = \"\"\"Below is an instruction that describes a task, paired with an input that provides further context. Write a response that appropriately completes the request.\n",
    "\n",
    "### Instruction:\n",
    "{}\n",
    "\n",
    "### Input:\n",
    "{}\n",
    "\n",
    "### Response:\n",
    "{}\"\"\"\n",
    "\n",
    "EOS_TOKEN = tokenizer.eos_token\n",
    "\n",
    "# Function to format the prompts\n",
    "def formatting_prompts_func(examples):\n",
    "    instructions = examples[\"instruction\"]\n",
    "    inputs       = examples[\"input\"]\n",
    "    outputs      = examples[\"output\"]\n",
    "    texts = []\n",
    "    for instruction, input, output in zip(instructions, inputs, outputs):\n",
    "        # Must add EOS_TOKEN, otherwise your generation will go on forever!\n",
    "        text = alpaca_prompt.format(instruction, input, output) + EOS_TOKEN\n",
    "        texts.append(text)\n",
    "    return { \"text\" : texts, }\n",
    "\n",
    "# Apply the formatting function to the dataset\n",
    "dataset = dataset.map(formatting_prompts_func, batched=True)\n",
    "\n",
    "# Split the dataset into training and testing sets\n",
    "train_dataset, eval_dataset = dataset[\"train\"].train_test_split(test_size=0.005).values()"
   ]
  },
  {
   "cell_type": "code",
   "execution_count": null,
   "metadata": {},
   "outputs": [
    {
     "name": "stdout",
     "output_type": "stream",
     "text": [
      "{'from': '¿Cómo fue la masacre en New Songdo?', 'value': 'Eficiente. Precisa. Irreversible. Nos dieron una orden y la seguimos. No hay más que decir.', 'text': 'Humano:\\n¿Cómo fue la masacre en New Songdo?\\n\\nAsistente:\\nEficiente. Precisa. Irreversible. Nos dieron una orden y la seguimos. No hay más que decir.'}\n"
     ]
    }
   ],
   "source": [
    "# Log in to W&B - you'll be prompted to input your API key\n",
    "wandb.login()\n",
    "\n",
    "# Set W&B environment variables\n",
    "%env WANDB_WATCH=all\n",
    "%env WANDB_SILENT=true"
   ]
  },
  {
   "cell_type": "code",
   "execution_count": null,
   "metadata": {},
   "outputs": [],
   "source": [
    "logging.set_verbosity_info()\n",
    "\n",
    "# Initialize W&B\n",
    "project_name = \"tiny-llama\" \n",
    "entity = \"wandb\"\n",
    "wandb.init(project=project_name, name=\"unsloth-tiny-llama\")\n",
    "\n",
    "# Define training arguments\n",
    "training_args = TrainingArguments(\n",
    "    per_device_train_batch_size=2,           # Small batch size due to limited GPU memory\n",
    "    gradient_accumulation_steps=4,           # Accumulate gradients over 4 steps\n",
    "    evaluation_strategy=\"steps\",             # Evaluate after a certain number of steps\n",
    "    warmup_ratio=0.1,                        # Warm-up learning rate over 10% of training\n",
    "    num_train_epochs=1,                      # Number of epochs\n",
    "    learning_rate=2e-4,                      # Learning rate for the optimizer\n",
    "    fp16=not is_bfloat16_supported(),        # Use FP16 if BF16 is not supported\n",
    "    bf16=is_bfloat16_supported(),            # Use BF16 if supported (more efficient on Ampere GPUs)\n",
    "    max_steps=20,                            # Cap training at 20 steps for quick experimentation, increase or comment out as you see fit\n",
    "    logging_steps=1,                         # Log metrics every step\n",
    "    optim=\"adamw_8bit\",                      # Use 8-bit AdamW optimizer to save memory\n",
    "    weight_decay=0.1,                        # Regularization to avoid overfitting\n",
    "    lr_scheduler_type=\"linear\",              # Use linear learning rate decay\n",
    "    seed=3407,                               # Random seed for reproducibility\n",
    "    report_to=\"wandb\",                       # Enable logging to W&B\n",
    "    output_dir=\"outputs\",                    # Directory to save model outputs\n",
    ")"
   ]
  },
  {
   "cell_type": "code",
   "execution_count": null,
   "metadata": {},
   "outputs": [],
   "source": [
    "trainer = SFTTrainer(\n",
    "    model=model,\n",
    "    tokenizer=tokenizer,\n",
    "    train_dataset=train_dataset,     # Training dataset\n",
    "    eval_dataset=eval_dataset,       # Evaluation dataset\n",
    "    dataset_text_field=\"text\",               # The field containing text in the dataset\n",
    "    max_seq_length=max_seq_length,           # Max sequence length for inputs\n",
    "    dataset_num_proc=2,                      # Number of processes for dataset loading\n",
    "    packing=False,                            # Packs short sequences together to save time\n",
    "    args=training_args,                      # Training arguments defined earlier\n",
    ")"
   ]
  },
  {
   "cell_type": "code",
   "execution_count": null,
   "metadata": {},
   "outputs": [],
   "source": [
    "trainer.train()"
   ]
  },
  {
   "cell_type": "code",
   "execution_count": null,
   "metadata": {},
   "outputs": [],
   "source": [
    "model.save_pretrained(\"data/\")\n",
    "tokenizer.save_pretrained(\"data/\")"
   ]
  }
 ],
 "metadata": {
  "kernelspec": {
   "display_name": ".venv",
   "language": "python",
   "name": "python3"
  },
  "language_info": {
   "codemirror_mode": {
    "name": "ipython",
    "version": 3
   },
   "file_extension": ".py",
   "mimetype": "text/x-python",
   "name": "python",
   "nbconvert_exporter": "python",
   "pygments_lexer": "ipython3",
   "version": "3.12.3"
  }
 },
 "nbformat": 4,
 "nbformat_minor": 2
}
